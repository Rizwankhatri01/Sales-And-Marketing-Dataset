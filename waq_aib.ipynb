{
 "cells": [
  {
   "cell_type": "markdown",
   "id": "b2d2f614",
   "metadata": {
    "slideshow": {
     "slide_type": "slide"
    }
   },
   "source": [
    "<img src=\"https://www.predicagroup.com/app/uploads/2019/05/customer-churn-1024x662.jpg\" width=800px h\n",
    "     eight=800px justify-content=left>\n",
    "\n",
    "# **SALES AND MARKETING**"
   ]
  },
  {
   "cell_type": "markdown",
   "id": "c9589853",
   "metadata": {
    "slideshow": {
     "slide_type": "skip"
    }
   },
   "source": [
    "***"
   ]
  },
  {
   "cell_type": "markdown",
   "id": "8282b0eb",
   "metadata": {
    "slideshow": {
     "slide_type": "skip"
    }
   },
   "source": [
    "***"
   ]
  },
  {
   "cell_type": "markdown",
   "id": "e35248c5",
   "metadata": {
    "slideshow": {
     "slide_type": "slide"
    }
   },
   "source": [
    "## DESCRIPTION:\n",
    "### The dataset contains information on sales and marketing, with the following columns:\n",
    "\n",
    "1. Month: This column represents the month during which the data was collected or recorded. It serves as a time identifier to track the sales and marketing activities over different months.\n",
    "\n",
    "2. Social Media: This column refers to the presence or engagement on social media platforms. It likely includes metrics such as the number of followers, likes, shares, comments, or other indicators of social media activity for a specific month.\n",
    "\n",
    "3. Print Media: This column represents the presence or coverage of marketing efforts in print media. It could include mentions or advertisements in newspapers, magazines, brochures, or other physical printed materials related to the company or product.\n",
    "\n",
    "4. Electronic Media: This column denotes the presence or exposure of marketing efforts in electronic media channels. It may include advertising on television, radio, online streaming platforms, or any other electronic media outlets.\n",
    "\n",
    "5. Sales: This column captures the sales figures or revenue generated for a particular month. It represents the actual financial performance of the company or product during that specific time period.\n",
    "\n",
    "The dataset aims to provide a comprehensive overview of the marketing activities across different media channels (social media, print media, electronic media) and their corresponding impact on sales. By analyzing this data, you can explore the relationships, patterns, and potential influences between marketing efforts and sales performance over time.\n"
   ]
  },
  {
   "cell_type": "markdown",
   "id": "087b75f2",
   "metadata": {
    "slideshow": {
     "slide_type": "slide"
    }
   },
   "source": [
    "# WORKING IN PANDAS (DATA PREPROCESSING AND CLEANING)"
   ]
  },
  {
   "cell_type": "code",
   "execution_count": 28,
   "id": "e5455ab5",
   "metadata": {
    "slideshow": {
     "slide_type": "fragment"
    }
   },
   "outputs": [],
   "source": [
    "import pandas as pd"
   ]
  },
  {
   "cell_type": "code",
   "execution_count": 29,
   "id": "0a6bd90b",
   "metadata": {
    "slideshow": {
     "slide_type": "slide"
    }
   },
   "outputs": [],
   "source": [
    "#IMPORTING OF OUR DATASET INTO JUPYTER USING PANDAS\n",
    "dataset=pd.read_csv(\"./Databel - Data.csv\")"
   ]
  },
  {
   "cell_type": "code",
   "execution_count": 30,
   "id": "1f1b1a38",
   "metadata": {
    "slideshow": {
     "slide_type": "fragment"
    }
   },
   "outputs": [
    {
     "data": {
      "text/html": [
       "<div>\n",
       "<style scoped>\n",
       "    .dataframe tbody tr th:only-of-type {\n",
       "        vertical-align: middle;\n",
       "    }\n",
       "\n",
       "    .dataframe tbody tr th {\n",
       "        vertical-align: top;\n",
       "    }\n",
       "\n",
       "    .dataframe thead th {\n",
       "        text-align: right;\n",
       "    }\n",
       "</style>\n",
       "<table border=\"1\" class=\"dataframe\">\n",
       "  <thead>\n",
       "    <tr style=\"text-align: right;\">\n",
       "      <th></th>\n",
       "      <th>Month</th>\n",
       "      <th>Social Media</th>\n",
       "      <th>Print Media</th>\n",
       "      <th>Electronic Media</th>\n",
       "      <th>Sales</th>\n",
       "    </tr>\n",
       "  </thead>\n",
       "  <tbody>\n",
       "    <tr>\n",
       "      <th>0</th>\n",
       "      <td>1/31/2010</td>\n",
       "      <td>4</td>\n",
       "      <td>3</td>\n",
       "      <td>7</td>\n",
       "      <td>404</td>\n",
       "    </tr>\n",
       "    <tr>\n",
       "      <th>1</th>\n",
       "      <td>2/28/2010</td>\n",
       "      <td>8</td>\n",
       "      <td>8</td>\n",
       "      <td>7</td>\n",
       "      <td>2,948</td>\n",
       "    </tr>\n",
       "    <tr>\n",
       "      <th>2</th>\n",
       "      <td>3/31/2010</td>\n",
       "      <td>12</td>\n",
       "      <td>9</td>\n",
       "      <td>13</td>\n",
       "      <td>7,095</td>\n",
       "    </tr>\n",
       "    <tr>\n",
       "      <th>3</th>\n",
       "      <td>4/30/2010</td>\n",
       "      <td>5</td>\n",
       "      <td>9</td>\n",
       "      <td>8</td>\n",
       "      <td>2,563</td>\n",
       "    </tr>\n",
       "    <tr>\n",
       "      <th>4</th>\n",
       "      <td>5/31/2010</td>\n",
       "      <td>2</td>\n",
       "      <td>4</td>\n",
       "      <td>4</td>\n",
       "      <td>599</td>\n",
       "    </tr>\n",
       "    <tr>\n",
       "      <th>...</th>\n",
       "      <td>...</td>\n",
       "      <td>...</td>\n",
       "      <td>...</td>\n",
       "      <td>...</td>\n",
       "      <td>...</td>\n",
       "    </tr>\n",
       "    <tr>\n",
       "      <th>91</th>\n",
       "      <td>8/31/2017</td>\n",
       "      <td>5</td>\n",
       "      <td>8</td>\n",
       "      <td>3</td>\n",
       "      <td>699</td>\n",
       "    </tr>\n",
       "    <tr>\n",
       "      <th>92</th>\n",
       "      <td>9/30/2017</td>\n",
       "      <td>5</td>\n",
       "      <td>3</td>\n",
       "      <td>2</td>\n",
       "      <td>647</td>\n",
       "    </tr>\n",
       "    <tr>\n",
       "      <th>93</th>\n",
       "      <td>10/31/2017</td>\n",
       "      <td>4</td>\n",
       "      <td>6</td>\n",
       "      <td>3</td>\n",
       "      <td>1,685</td>\n",
       "    </tr>\n",
       "    <tr>\n",
       "      <th>94</th>\n",
       "      <td>11/30/2017</td>\n",
       "      <td>8</td>\n",
       "      <td>9</td>\n",
       "      <td>5</td>\n",
       "      <td>3,027</td>\n",
       "    </tr>\n",
       "    <tr>\n",
       "      <th>95</th>\n",
       "      <td>12/31/2017</td>\n",
       "      <td>1</td>\n",
       "      <td>1</td>\n",
       "      <td>3</td>\n",
       "      <td>80</td>\n",
       "    </tr>\n",
       "  </tbody>\n",
       "</table>\n",
       "<p>96 rows × 5 columns</p>\n",
       "</div>"
      ],
      "text/plain": [
       "         Month  Social Media  Print Media  Electronic Media  Sales\n",
       "0    1/31/2010             4            3                 7    404\n",
       "1    2/28/2010             8            8                 7  2,948\n",
       "2    3/31/2010            12            9                13  7,095\n",
       "3    4/30/2010             5            9                 8  2,563\n",
       "4    5/31/2010             2            4                 4    599\n",
       "..         ...           ...          ...               ...    ...\n",
       "91   8/31/2017             5            8                 3    699\n",
       "92   9/30/2017             5            3                 2    647\n",
       "93  10/31/2017             4            6                 3  1,685\n",
       "94  11/30/2017             8            9                 5  3,027\n",
       "95  12/31/2017             1            1                 3     80\n",
       "\n",
       "[96 rows x 5 columns]"
      ]
     },
     "execution_count": 30,
     "metadata": {},
     "output_type": "execute_result"
    }
   ],
   "source": [
    "dataset"
   ]
  },
  {
   "cell_type": "code",
   "execution_count": 31,
   "id": "6a6c3cce",
   "metadata": {
    "slideshow": {
     "slide_type": "subslide"
    }
   },
   "outputs": [
    {
     "data": {
      "text/plain": [
       "(96, 5)"
      ]
     },
     "execution_count": 31,
     "metadata": {},
     "output_type": "execute_result"
    }
   ],
   "source": [
    "dataset.shape"
   ]
  },
  {
   "cell_type": "code",
   "execution_count": 32,
   "id": "105e233a",
   "metadata": {
    "slideshow": {
     "slide_type": "fragment"
    }
   },
   "outputs": [
    {
     "data": {
      "text/plain": [
       "480"
      ]
     },
     "execution_count": 32,
     "metadata": {},
     "output_type": "execute_result"
    }
   ],
   "source": [
    "#this command will show the total elements of our dataset by multiplying rows and columns\n",
    "dataset.size"
   ]
  },
  {
   "cell_type": "code",
   "execution_count": 33,
   "id": "46d18f7a",
   "metadata": {
    "slideshow": {
     "slide_type": "fragment"
    }
   },
   "outputs": [
    {
     "data": {
      "text/html": [
       "<div>\n",
       "<style scoped>\n",
       "    .dataframe tbody tr th:only-of-type {\n",
       "        vertical-align: middle;\n",
       "    }\n",
       "\n",
       "    .dataframe tbody tr th {\n",
       "        vertical-align: top;\n",
       "    }\n",
       "\n",
       "    .dataframe thead th {\n",
       "        text-align: right;\n",
       "    }\n",
       "</style>\n",
       "<table border=\"1\" class=\"dataframe\">\n",
       "  <thead>\n",
       "    <tr style=\"text-align: right;\">\n",
       "      <th></th>\n",
       "      <th>Month</th>\n",
       "      <th>Social Media</th>\n",
       "      <th>Print Media</th>\n",
       "      <th>Electronic Media</th>\n",
       "      <th>Sales</th>\n",
       "    </tr>\n",
       "  </thead>\n",
       "  <tbody>\n",
       "    <tr>\n",
       "      <th>0</th>\n",
       "      <td>1/31/2010</td>\n",
       "      <td>4</td>\n",
       "      <td>3</td>\n",
       "      <td>7</td>\n",
       "      <td>404</td>\n",
       "    </tr>\n",
       "    <tr>\n",
       "      <th>1</th>\n",
       "      <td>2/28/2010</td>\n",
       "      <td>8</td>\n",
       "      <td>8</td>\n",
       "      <td>7</td>\n",
       "      <td>2,948</td>\n",
       "    </tr>\n",
       "    <tr>\n",
       "      <th>2</th>\n",
       "      <td>3/31/2010</td>\n",
       "      <td>12</td>\n",
       "      <td>9</td>\n",
       "      <td>13</td>\n",
       "      <td>7,095</td>\n",
       "    </tr>\n",
       "    <tr>\n",
       "      <th>3</th>\n",
       "      <td>4/30/2010</td>\n",
       "      <td>5</td>\n",
       "      <td>9</td>\n",
       "      <td>8</td>\n",
       "      <td>2,563</td>\n",
       "    </tr>\n",
       "    <tr>\n",
       "      <th>4</th>\n",
       "      <td>5/31/2010</td>\n",
       "      <td>2</td>\n",
       "      <td>4</td>\n",
       "      <td>4</td>\n",
       "      <td>599</td>\n",
       "    </tr>\n",
       "    <tr>\n",
       "      <th>5</th>\n",
       "      <td>6/30/2010</td>\n",
       "      <td>6</td>\n",
       "      <td>11</td>\n",
       "      <td>4</td>\n",
       "      <td>1,363</td>\n",
       "    </tr>\n",
       "  </tbody>\n",
       "</table>\n",
       "</div>"
      ],
      "text/plain": [
       "       Month  Social Media  Print Media  Electronic Media  Sales\n",
       "0  1/31/2010             4            3                 7    404\n",
       "1  2/28/2010             8            8                 7  2,948\n",
       "2  3/31/2010            12            9                13  7,095\n",
       "3  4/30/2010             5            9                 8  2,563\n",
       "4  5/31/2010             2            4                 4    599\n",
       "5  6/30/2010             6           11                 4  1,363"
      ]
     },
     "execution_count": 33,
     "metadata": {},
     "output_type": "execute_result"
    }
   ],
   "source": [
    "dataset.head(6)"
   ]
  },
  {
   "cell_type": "code",
   "execution_count": 34,
   "id": "be70c110",
   "metadata": {
    "slideshow": {
     "slide_type": "subslide"
    }
   },
   "outputs": [
    {
     "data": {
      "text/html": [
       "<div>\n",
       "<style scoped>\n",
       "    .dataframe tbody tr th:only-of-type {\n",
       "        vertical-align: middle;\n",
       "    }\n",
       "\n",
       "    .dataframe tbody tr th {\n",
       "        vertical-align: top;\n",
       "    }\n",
       "\n",
       "    .dataframe thead th {\n",
       "        text-align: right;\n",
       "    }\n",
       "</style>\n",
       "<table border=\"1\" class=\"dataframe\">\n",
       "  <thead>\n",
       "    <tr style=\"text-align: right;\">\n",
       "      <th></th>\n",
       "      <th>Month</th>\n",
       "      <th>Social Media</th>\n",
       "      <th>Print Media</th>\n",
       "      <th>Electronic Media</th>\n",
       "      <th>Sales</th>\n",
       "    </tr>\n",
       "  </thead>\n",
       "  <tbody>\n",
       "    <tr>\n",
       "      <th>90</th>\n",
       "      <td>7/31/2017</td>\n",
       "      <td>6</td>\n",
       "      <td>8</td>\n",
       "      <td>5</td>\n",
       "      <td>1,665</td>\n",
       "    </tr>\n",
       "    <tr>\n",
       "      <th>91</th>\n",
       "      <td>8/31/2017</td>\n",
       "      <td>5</td>\n",
       "      <td>8</td>\n",
       "      <td>3</td>\n",
       "      <td>699</td>\n",
       "    </tr>\n",
       "    <tr>\n",
       "      <th>92</th>\n",
       "      <td>9/30/2017</td>\n",
       "      <td>5</td>\n",
       "      <td>3</td>\n",
       "      <td>2</td>\n",
       "      <td>647</td>\n",
       "    </tr>\n",
       "    <tr>\n",
       "      <th>93</th>\n",
       "      <td>10/31/2017</td>\n",
       "      <td>4</td>\n",
       "      <td>6</td>\n",
       "      <td>3</td>\n",
       "      <td>1,685</td>\n",
       "    </tr>\n",
       "    <tr>\n",
       "      <th>94</th>\n",
       "      <td>11/30/2017</td>\n",
       "      <td>8</td>\n",
       "      <td>9</td>\n",
       "      <td>5</td>\n",
       "      <td>3,027</td>\n",
       "    </tr>\n",
       "    <tr>\n",
       "      <th>95</th>\n",
       "      <td>12/31/2017</td>\n",
       "      <td>1</td>\n",
       "      <td>1</td>\n",
       "      <td>3</td>\n",
       "      <td>80</td>\n",
       "    </tr>\n",
       "  </tbody>\n",
       "</table>\n",
       "</div>"
      ],
      "text/plain": [
       "         Month  Social Media  Print Media  Electronic Media  Sales\n",
       "90   7/31/2017             6            8                 5  1,665\n",
       "91   8/31/2017             5            8                 3    699\n",
       "92   9/30/2017             5            3                 2    647\n",
       "93  10/31/2017             4            6                 3  1,685\n",
       "94  11/30/2017             8            9                 5  3,027\n",
       "95  12/31/2017             1            1                 3     80"
      ]
     },
     "execution_count": 34,
     "metadata": {},
     "output_type": "execute_result"
    }
   ],
   "source": [
    "dataset.tail(6)"
   ]
  },
  {
   "cell_type": "code",
   "execution_count": 35,
   "id": "ad8efeea",
   "metadata": {
    "scrolled": true,
    "slideshow": {
     "slide_type": "fragment"
    }
   },
   "outputs": [
    {
     "data": {
      "text/plain": [
       "Index(['Month', 'Social Media', 'Print Media', 'Electronic Media', 'Sales'], dtype='object')"
      ]
     },
     "execution_count": 35,
     "metadata": {},
     "output_type": "execute_result"
    }
   ],
   "source": [
    "#This command shows the columns of our dataset\n",
    "dataset.columns"
   ]
  },
  {
   "cell_type": "markdown",
   "id": "4e7f3098",
   "metadata": {},
   "source": [
    "***"
   ]
  },
  {
   "cell_type": "code",
   "execution_count": 36,
   "id": "1e9bca4a",
   "metadata": {
    "slideshow": {
     "slide_type": "subslide"
    }
   },
   "outputs": [
    {
     "name": "stdout",
     "output_type": "stream",
     "text": [
      "<class 'pandas.core.frame.DataFrame'>\n",
      "RangeIndex: 96 entries, 0 to 95\n",
      "Data columns (total 5 columns):\n",
      " #   Column            Non-Null Count  Dtype \n",
      "---  ------            --------------  ----- \n",
      " 0   Month             96 non-null     object\n",
      " 1   Social Media      96 non-null     int64 \n",
      " 2   Print Media       96 non-null     int64 \n",
      " 3   Electronic Media  96 non-null     int64 \n",
      " 4   Sales             96 non-null     object\n",
      "dtypes: int64(3), object(2)\n",
      "memory usage: 3.9+ KB\n"
     ]
    }
   ],
   "source": [
    "#First we will check the structure or get information about our dataset\n",
    "dataset.info()"
   ]
  },
  {
   "cell_type": "markdown",
   "id": "591b103d",
   "metadata": {
    "slideshow": {
     "slide_type": "slide"
    }
   },
   "source": [
    "# Check for any null or missing value in  dataset."
   ]
  },
  {
   "cell_type": "markdown",
   "id": "28c76f77",
   "metadata": {},
   "source": [
    "***"
   ]
  },
  {
   "cell_type": "code",
   "execution_count": 37,
   "id": "58d08e1a",
   "metadata": {
    "slideshow": {
     "slide_type": "subslide"
    }
   },
   "outputs": [
    {
     "data": {
      "text/html": [
       "<div>\n",
       "<style scoped>\n",
       "    .dataframe tbody tr th:only-of-type {\n",
       "        vertical-align: middle;\n",
       "    }\n",
       "\n",
       "    .dataframe tbody tr th {\n",
       "        vertical-align: top;\n",
       "    }\n",
       "\n",
       "    .dataframe thead th {\n",
       "        text-align: right;\n",
       "    }\n",
       "</style>\n",
       "<table border=\"1\" class=\"dataframe\">\n",
       "  <thead>\n",
       "    <tr style=\"text-align: right;\">\n",
       "      <th></th>\n",
       "      <th>Month</th>\n",
       "      <th>Social Media</th>\n",
       "      <th>Print Media</th>\n",
       "      <th>Electronic Media</th>\n",
       "      <th>Sales</th>\n",
       "    </tr>\n",
       "  </thead>\n",
       "  <tbody>\n",
       "    <tr>\n",
       "      <th>0</th>\n",
       "      <td>False</td>\n",
       "      <td>False</td>\n",
       "      <td>False</td>\n",
       "      <td>False</td>\n",
       "      <td>False</td>\n",
       "    </tr>\n",
       "    <tr>\n",
       "      <th>1</th>\n",
       "      <td>False</td>\n",
       "      <td>False</td>\n",
       "      <td>False</td>\n",
       "      <td>False</td>\n",
       "      <td>False</td>\n",
       "    </tr>\n",
       "    <tr>\n",
       "      <th>2</th>\n",
       "      <td>False</td>\n",
       "      <td>False</td>\n",
       "      <td>False</td>\n",
       "      <td>False</td>\n",
       "      <td>False</td>\n",
       "    </tr>\n",
       "    <tr>\n",
       "      <th>3</th>\n",
       "      <td>False</td>\n",
       "      <td>False</td>\n",
       "      <td>False</td>\n",
       "      <td>False</td>\n",
       "      <td>False</td>\n",
       "    </tr>\n",
       "    <tr>\n",
       "      <th>4</th>\n",
       "      <td>False</td>\n",
       "      <td>False</td>\n",
       "      <td>False</td>\n",
       "      <td>False</td>\n",
       "      <td>False</td>\n",
       "    </tr>\n",
       "    <tr>\n",
       "      <th>...</th>\n",
       "      <td>...</td>\n",
       "      <td>...</td>\n",
       "      <td>...</td>\n",
       "      <td>...</td>\n",
       "      <td>...</td>\n",
       "    </tr>\n",
       "    <tr>\n",
       "      <th>91</th>\n",
       "      <td>False</td>\n",
       "      <td>False</td>\n",
       "      <td>False</td>\n",
       "      <td>False</td>\n",
       "      <td>False</td>\n",
       "    </tr>\n",
       "    <tr>\n",
       "      <th>92</th>\n",
       "      <td>False</td>\n",
       "      <td>False</td>\n",
       "      <td>False</td>\n",
       "      <td>False</td>\n",
       "      <td>False</td>\n",
       "    </tr>\n",
       "    <tr>\n",
       "      <th>93</th>\n",
       "      <td>False</td>\n",
       "      <td>False</td>\n",
       "      <td>False</td>\n",
       "      <td>False</td>\n",
       "      <td>False</td>\n",
       "    </tr>\n",
       "    <tr>\n",
       "      <th>94</th>\n",
       "      <td>False</td>\n",
       "      <td>False</td>\n",
       "      <td>False</td>\n",
       "      <td>False</td>\n",
       "      <td>False</td>\n",
       "    </tr>\n",
       "    <tr>\n",
       "      <th>95</th>\n",
       "      <td>False</td>\n",
       "      <td>False</td>\n",
       "      <td>False</td>\n",
       "      <td>False</td>\n",
       "      <td>False</td>\n",
       "    </tr>\n",
       "  </tbody>\n",
       "</table>\n",
       "<p>96 rows × 5 columns</p>\n",
       "</div>"
      ],
      "text/plain": [
       "    Month  Social Media  Print Media  Electronic Media  Sales\n",
       "0   False         False        False             False  False\n",
       "1   False         False        False             False  False\n",
       "2   False         False        False             False  False\n",
       "3   False         False        False             False  False\n",
       "4   False         False        False             False  False\n",
       "..    ...           ...          ...               ...    ...\n",
       "91  False         False        False             False  False\n",
       "92  False         False        False             False  False\n",
       "93  False         False        False             False  False\n",
       "94  False         False        False             False  False\n",
       "95  False         False        False             False  False\n",
       "\n",
       "[96 rows x 5 columns]"
      ]
     },
     "execution_count": 37,
     "metadata": {},
     "output_type": "execute_result"
    }
   ],
   "source": [
    "dataset.isnull()"
   ]
  },
  {
   "cell_type": "code",
   "execution_count": 38,
   "id": "bfdec437",
   "metadata": {
    "slideshow": {
     "slide_type": "subslide"
    }
   },
   "outputs": [
    {
     "data": {
      "text/plain": [
       "Month               0\n",
       "Social Media        0\n",
       "Print Media         0\n",
       "Electronic Media    0\n",
       "Sales               0\n",
       "dtype: int64"
      ]
     },
     "execution_count": 38,
     "metadata": {},
     "output_type": "execute_result"
    }
   ],
   "source": [
    "dataset.isnull().sum()"
   ]
  },
  {
   "cell_type": "code",
   "execution_count": 39,
   "id": "0d5043a6",
   "metadata": {
    "slideshow": {
     "slide_type": "fragment"
    }
   },
   "outputs": [
    {
     "data": {
      "text/plain": [
       "0"
      ]
     },
     "execution_count": 39,
     "metadata": {},
     "output_type": "execute_result"
    }
   ],
   "source": [
    "dataset.isnull().sum().sum()"
   ]
  },
  {
   "cell_type": "code",
   "execution_count": 48,
   "id": "516c1e94",
   "metadata": {},
   "outputs": [],
   "source": [
    "dataset[\"Sales\"]=dataset[\"Sales\"].str.replace(\",\",\"\").astype(int)"
   ]
  },
  {
   "cell_type": "code",
   "execution_count": 49,
   "id": "5bca568b",
   "metadata": {},
   "outputs": [
    {
     "name": "stdout",
     "output_type": "stream",
     "text": [
      "<class 'pandas.core.frame.DataFrame'>\n",
      "RangeIndex: 96 entries, 0 to 95\n",
      "Data columns (total 5 columns):\n",
      " #   Column            Non-Null Count  Dtype \n",
      "---  ------            --------------  ----- \n",
      " 0   Month             96 non-null     object\n",
      " 1   Social Media      96 non-null     int64 \n",
      " 2   Print Media       96 non-null     int64 \n",
      " 3   Electronic Media  96 non-null     int64 \n",
      " 4   Sales             96 non-null     int32 \n",
      "dtypes: int32(1), int64(3), object(1)\n",
      "memory usage: 3.5+ KB\n"
     ]
    }
   ],
   "source": [
    "dataset.info()"
   ]
  },
  {
   "cell_type": "markdown",
   "id": "4b0bd5ca",
   "metadata": {},
   "source": [
    "***"
   ]
  },
  {
   "cell_type": "markdown",
   "id": "9d8d5453",
   "metadata": {
    "slideshow": {
     "slide_type": "fragment"
    }
   },
   "source": [
    "# DATA IS CLEANED.\n"
   ]
  },
  {
   "cell_type": "markdown",
   "id": "5edbc057",
   "metadata": {
    "slideshow": {
     "slide_type": "slide"
    }
   },
   "source": [
    "# ANALYSIS PART:\n",
    "* ## We can proceed with the analysis phase, specifically focusing on correlation and covariance analysis.\n",
    "\n"
   ]
  },
  {
   "cell_type": "code",
   "execution_count": 50,
   "id": "30a64169",
   "metadata": {
    "scrolled": true,
    "slideshow": {
     "slide_type": "subslide"
    }
   },
   "outputs": [
    {
     "data": {
      "text/html": [
       "<div>\n",
       "<style scoped>\n",
       "    .dataframe tbody tr th:only-of-type {\n",
       "        vertical-align: middle;\n",
       "    }\n",
       "\n",
       "    .dataframe tbody tr th {\n",
       "        vertical-align: top;\n",
       "    }\n",
       "\n",
       "    .dataframe thead th {\n",
       "        text-align: right;\n",
       "    }\n",
       "</style>\n",
       "<table border=\"1\" class=\"dataframe\">\n",
       "  <thead>\n",
       "    <tr style=\"text-align: right;\">\n",
       "      <th></th>\n",
       "      <th>Social Media</th>\n",
       "      <th>Print Media</th>\n",
       "      <th>Electronic Media</th>\n",
       "      <th>Sales</th>\n",
       "    </tr>\n",
       "  </thead>\n",
       "  <tbody>\n",
       "    <tr>\n",
       "      <th>Social Media</th>\n",
       "      <td>1.000000</td>\n",
       "      <td>0.486814</td>\n",
       "      <td>0.528802</td>\n",
       "      <td>0.825858</td>\n",
       "    </tr>\n",
       "    <tr>\n",
       "      <th>Print Media</th>\n",
       "      <td>0.486814</td>\n",
       "      <td>1.000000</td>\n",
       "      <td>0.327150</td>\n",
       "      <td>0.570283</td>\n",
       "    </tr>\n",
       "    <tr>\n",
       "      <th>Electronic Media</th>\n",
       "      <td>0.528802</td>\n",
       "      <td>0.327150</td>\n",
       "      <td>1.000000</td>\n",
       "      <td>0.696956</td>\n",
       "    </tr>\n",
       "    <tr>\n",
       "      <th>Sales</th>\n",
       "      <td>0.825858</td>\n",
       "      <td>0.570283</td>\n",
       "      <td>0.696956</td>\n",
       "      <td>1.000000</td>\n",
       "    </tr>\n",
       "  </tbody>\n",
       "</table>\n",
       "</div>"
      ],
      "text/plain": [
       "                  Social Media  Print Media  Electronic Media     Sales\n",
       "Social Media          1.000000     0.486814          0.528802  0.825858\n",
       "Print Media           0.486814     1.000000          0.327150  0.570283\n",
       "Electronic Media      0.528802     0.327150          1.000000  0.696956\n",
       "Sales                 0.825858     0.570283          0.696956  1.000000"
      ]
     },
     "execution_count": 50,
     "metadata": {},
     "output_type": "execute_result"
    }
   ],
   "source": [
    "dataset.corr()"
   ]
  },
  {
   "cell_type": "code",
   "execution_count": 51,
   "id": "6ff2efb0",
   "metadata": {
    "slideshow": {
     "slide_type": "subslide"
    }
   },
   "outputs": [
    {
     "data": {
      "text/html": [
       "<div>\n",
       "<style scoped>\n",
       "    .dataframe tbody tr th:only-of-type {\n",
       "        vertical-align: middle;\n",
       "    }\n",
       "\n",
       "    .dataframe tbody tr th {\n",
       "        vertical-align: top;\n",
       "    }\n",
       "\n",
       "    .dataframe thead th {\n",
       "        text-align: right;\n",
       "    }\n",
       "</style>\n",
       "<table border=\"1\" class=\"dataframe\">\n",
       "  <thead>\n",
       "    <tr style=\"text-align: right;\">\n",
       "      <th></th>\n",
       "      <th>Social Media</th>\n",
       "      <th>Print Media</th>\n",
       "      <th>Electronic Media</th>\n",
       "      <th>Sales</th>\n",
       "    </tr>\n",
       "  </thead>\n",
       "  <tbody>\n",
       "    <tr>\n",
       "      <th>Social Media</th>\n",
       "      <td>4.863048</td>\n",
       "      <td>3.424013</td>\n",
       "      <td>2.951316</td>\n",
       "      <td>2.998783e+03</td>\n",
       "    </tr>\n",
       "    <tr>\n",
       "      <th>Print Media</th>\n",
       "      <td>3.424013</td>\n",
       "      <td>10.172697</td>\n",
       "      <td>2.640789</td>\n",
       "      <td>2.994978e+03</td>\n",
       "    </tr>\n",
       "    <tr>\n",
       "      <th>Electronic Media</th>\n",
       "      <td>2.951316</td>\n",
       "      <td>2.640789</td>\n",
       "      <td>6.405263</td>\n",
       "      <td>2.904416e+03</td>\n",
       "    </tr>\n",
       "    <tr>\n",
       "      <th>Sales</th>\n",
       "      <td>2998.782895</td>\n",
       "      <td>2994.977632</td>\n",
       "      <td>2904.415789</td>\n",
       "      <td>2.711255e+06</td>\n",
       "    </tr>\n",
       "  </tbody>\n",
       "</table>\n",
       "</div>"
      ],
      "text/plain": [
       "                  Social Media  Print Media  Electronic Media         Sales\n",
       "Social Media          4.863048     3.424013          2.951316  2.998783e+03\n",
       "Print Media           3.424013    10.172697          2.640789  2.994978e+03\n",
       "Electronic Media      2.951316     2.640789          6.405263  2.904416e+03\n",
       "Sales              2998.782895  2994.977632       2904.415789  2.711255e+06"
      ]
     },
     "execution_count": 51,
     "metadata": {},
     "output_type": "execute_result"
    }
   ],
   "source": [
    "dataset.cov()"
   ]
  },
  {
   "cell_type": "markdown",
   "id": "354a4163",
   "metadata": {
    "slideshow": {
     "slide_type": "slide"
    }
   },
   "source": [
    "# SOME ANALYSIS QUESTIONS RELATED TO OUR DATA"
   ]
  },
  {
   "cell_type": "markdown",
   "id": "f8f96038",
   "metadata": {
    "slideshow": {
     "slide_type": "subslide"
    }
   },
   "source": [
    "### 1.correlation between social media presence and sales"
   ]
  },
  {
   "cell_type": "code",
   "execution_count": 56,
   "id": "a0d0b4cb",
   "metadata": {
    "slideshow": {
     "slide_type": "fragment"
    }
   },
   "outputs": [
    {
     "name": "stdout",
     "output_type": "stream",
     "text": [
      "Correlation between Social Media and Sales: 0.8\n"
     ]
    }
   ],
   "source": [
    "correlation = dataset[\"Social Media\"].corr(dataset[\"Sales\"])\n",
    "print(\"Correlation between Social Media and Sales:\", correlation.round(1))"
   ]
  },
  {
   "cell_type": "markdown",
   "id": "c32e3c32",
   "metadata": {
    "slideshow": {
     "slide_type": "subslide"
    }
   },
   "source": [
    "### 2.correlation between electronic media presence and sales"
   ]
  },
  {
   "cell_type": "code",
   "execution_count": 57,
   "id": "dd4bc07e",
   "metadata": {
    "slideshow": {
     "slide_type": "fragment"
    }
   },
   "outputs": [
    {
     "name": "stdout",
     "output_type": "stream",
     "text": [
      "Correlation between Electronic Media and Sales: 0.7\n"
     ]
    }
   ],
   "source": [
    "correlation = dataset[\"Electronic Media\"].corr(dataset[\"Sales\"])\n",
    "print(\"Correlation between Electronic Media and Sales:\", correlation.round(1))"
   ]
  },
  {
   "cell_type": "markdown",
   "id": "ebb7397b",
   "metadata": {
    "slideshow": {
     "slide_type": "subslide"
    }
   },
   "source": [
    "### 3.correlation between Print media presence and sales\n"
   ]
  },
  {
   "cell_type": "code",
   "execution_count": 58,
   "id": "eb64b6fe",
   "metadata": {
    "slideshow": {
     "slide_type": "fragment"
    }
   },
   "outputs": [
    {
     "name": "stdout",
     "output_type": "stream",
     "text": [
      "Correlation between Print Media and Sales: 0.6\n"
     ]
    }
   ],
   "source": [
    "correlation = dataset[\"Print Media\"].corr(dataset[\"Sales\"])\n",
    "print(\"Correlation between Print Media and Sales:\", correlation.round(1))"
   ]
  }
 ],
 "metadata": {
  "kernelspec": {
   "display_name": "Python 3 (ipykernel)",
   "language": "python",
   "name": "python3"
  },
  "language_info": {
   "codemirror_mode": {
    "name": "ipython",
    "version": 3
   },
   "file_extension": ".py",
   "mimetype": "text/x-python",
   "name": "python",
   "nbconvert_exporter": "python",
   "pygments_lexer": "ipython3",
   "version": "3.9.13"
  }
 },
 "nbformat": 4,
 "nbformat_minor": 5
}
